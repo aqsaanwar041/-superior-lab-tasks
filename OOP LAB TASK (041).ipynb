{
 "cells": [
  {
   "cell_type": "code",
   "execution_count": 2,
   "id": "c67b28f8-4400-4122-ae5c-be69353174e9",
   "metadata": {},
   "outputs": [],
   "source": [
    "# OOP TASK 1"
   ]
  },
  {
   "cell_type": "code",
   "execution_count": 1,
   "id": "ce3f097d-7d79-4897-9da6-d6bfdf3e37c1",
   "metadata": {},
   "outputs": [
    {
     "name": "stdout",
     "output_type": "stream",
     "text": [
      "78 is not a prime number.\n",
      "10 is not a prime number.\n",
      "13 is a prime number.\n",
      "49 is not a prime number.\n",
      "87 is not a prime number.\n",
      "103 is a prime number.\n"
     ]
    }
   ],
   "source": [
    "import math\n",
    "def is_prime(number):\n",
    "    if number <= 1:\n",
    "        return False\n",
    "    for i in range(2, int(math.sqrt(number)) + 1):\n",
    "        if number % i == 0:\n",
    "            return False\n",
    "    return True\n",
    "def check_prime_numbers(numbers):\n",
    "    for num in numbers:\n",
    "        if is_prime(num):\n",
    "            print(f\"{num} is a prime number.\")\n",
    "        else:\n",
    "            print(f\"{num} is not a prime number.\")\n",
    "numbers_to_check = [78, 10, 13, 49, 87, 103]\n",
    "check_prime_numbers(numbers_to_check)"
   ]
  },
  {
   "cell_type": "code",
   "execution_count": 3,
   "id": "6a72e539-8d39-4308-94bf-9ceca6b54de7",
   "metadata": {},
   "outputs": [],
   "source": [
    "# OOP TASK 2"
   ]
  },
  {
   "cell_type": "code",
   "execution_count": 10,
   "id": "c49df601-0c74-4178-9ff5-c58c5b684ab6",
   "metadata": {},
   "outputs": [
    {
     "name": "stdout",
     "output_type": "stream",
     "text": [
      "Ford\n",
      "Mercedes\n",
      "Car: Ford V8\n"
     ]
    }
   ],
   "source": [
    "class Car:\n",
    "    def __init__(self, make, model):\n",
    "        self.make = make\n",
    "        self.model = model\n",
    "car1 = Car(\"Ford\", \"Civic\")\n",
    "car2 = Car(\"BMW\", \"Mercedes\")\n",
    "print(car1.make)  \n",
    "print(car2.model)\n",
    "\n",
    "\n",
    "class Car:\n",
    "    def __init__(self, brand, model):\n",
    "        self.brand = brand\n",
    "        self.model = model\n",
    "    \n",
    "    def __str__(self):\n",
    "        return f\"Car: {self.brand} {self.model}\"\n",
    "\n",
    "my_car = Car(\"Ford\", \"V8\")\n",
    "print(my_car) "
   ]
  },
  {
   "cell_type": "code",
   "execution_count": 11,
   "id": "1fea9216-ff91-44d4-a6ce-4acba20ea08a",
   "metadata": {},
   "outputs": [],
   "source": [
    "# OOP TASK 3"
   ]
  },
  {
   "cell_type": "code",
   "execution_count": 14,
   "id": "e659f56c-519b-4c3c-a40a-53d8ff613bb5",
   "metadata": {},
   "outputs": [
    {
     "name": "stdin",
     "output_type": "stream",
     "text": [
      "Enter the width of the rectangle:  234\n",
      "Enter the height of the rectangle:  345\n"
     ]
    },
    {
     "name": "stdout",
     "output_type": "stream",
     "text": [
      "Rectangle: [234.0] x [345.0]\n",
      "Area of the rectangle: 80730.0\n",
      "Perimeter of the rectangle: 1158.0\n"
     ]
    }
   ],
   "source": [
    "class Rectangle:\n",
    "    def __init__(self, width, height):\n",
    "        self.width = width\n",
    "        self.height = height\n",
    "\n",
    "    def __str__(self):\n",
    "        return f\"Rectangle: [{self.width}] x [{self.height}]\"\n",
    "\n",
    "    def area(self):\n",
    "        return self.width * self.height\n",
    "\n",
    "    def perimeter(self):\n",
    "        return 2 * (self.width + self.height)\n",
    "\n",
    "width = float(input(\"Enter the width of the rectangle: \"))\n",
    "height = float(input(\"Enter the height of the rectangle: \"))\n",
    "\n",
    "rectangle = Rectangle(width, height)\n",
    "\n",
    "print(rectangle)\n",
    "print(f\"Area of the rectangle: {rectangle.area()}\")\n",
    "print(f\"Perimeter of the rectangle: {rectangle.perimeter()}\")"
   ]
  },
  {
   "cell_type": "code",
   "execution_count": 13,
   "id": "7a7eecf4-d0be-4dcc-8ae9-221c26dab015",
   "metadata": {},
   "outputs": [],
   "source": [
    "# OOP TASK 4"
   ]
  },
  {
   "cell_type": "code",
   "execution_count": 12,
   "id": "da94f437-da5f-4310-84c5-fe03581857c2",
   "metadata": {},
   "outputs": [
    {
     "name": "stdout",
     "output_type": "stream",
     "text": [
      "Title: To kill a Mocking bird, Author:  Harper Lee, Publication Year: 1960\n",
      "Title: Jannat ke pattay, Author: Nimra Ahmed, Publication Year: 2013\n"
     ]
    }
   ],
   "source": [
    "class Book:\n",
    "    def __init__(self, title, author, publication_year):\n",
    "        self.title = title\n",
    "        self.author = author\n",
    "        self.publication_year = publication_year\n",
    "\n",
    "    def __str__(self):\n",
    "        return f\"Title: {self.title}, Author: {self.author}, Publication Year: {self.publication_year}\"\n",
    "book1 = Book(\"To kill a Mocking bird\",\" Harper Lee\", 1960)\n",
    "book2 = Book(\"Jannat ke pattay\", \"Nimra Ahmed\", 2013)\n",
    "print(book1)\n",
    "print(book2)"
   ]
  },
  {
   "cell_type": "code",
   "execution_count": null,
   "id": "761bc039-16fc-4dbd-8c46-eec051ba1f47",
   "metadata": {},
   "outputs": [],
   "source": []
  }
 ],
 "metadata": {
  "kernelspec": {
   "display_name": "Python 3 (ipykernel)",
   "language": "python",
   "name": "python3"
  },
  "language_info": {
   "codemirror_mode": {
    "name": "ipython",
    "version": 3
   },
   "file_extension": ".py",
   "mimetype": "text/x-python",
   "name": "python",
   "nbconvert_exporter": "python",
   "pygments_lexer": "ipython3",
   "version": "3.11.7"
  }
 },
 "nbformat": 4,
 "nbformat_minor": 5
}
