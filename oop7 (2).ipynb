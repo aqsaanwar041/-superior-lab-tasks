{
 "cells": [
  {
   "cell_type": "code",
   "execution_count": 8,
   "id": "86da3f62-df05-4d5a-852a-378c72520921",
   "metadata": {},
   "outputs": [
    {
     "name": "stdout",
     "output_type": "stream",
     "text": [
      "[Vehicle Information] Make: Tesla, Model: Model S Plaid\n",
      "Number of Doors: 4\n"
     ]
    }
   ],
   "source": [
    "\n",
    "class Vehicle:\n",
    "    def __init__(self, make, model):\n",
    "        self.make = make\n",
    "        self.model = model\n",
    "\n",
    "    def display_info(self):\n",
    "        print(f\"[Vehicle Information] Make: {self.make}, Model: {self.model}\")\n",
    "        \n",
    "class Car(Vehicle):\n",
    "    def __init__(self, make, model, num_doors):\n",
    "        Vehicle.__init__(self, make, model)\n",
    "        self.num_doors = num_doors\n",
    "\n",
    "    def display_car_info(self):\n",
    "        self.display_info()\n",
    "        print(f\"Number of Doors: {self.num_doors}\")\n",
    "        \n",
    "class LuxuryCar(Car):\n",
    "    def __init__(self, make, model, num_doors, features):\n",
    "        Car.__init__(self, make, model, num_doors)\n",
    "        self.features = features\n",
    "\n",
    "    def display_luxury_info(self):\n",
    "        self.display_car_info()\n",
    "        \n",
    "luxury_car = LuxuryCar(\"Tesla\", \"Model S Plaid\", 4, [\"Autopilot\", \"Heated seats\", \"Panoramic roof\", \"Premium sound system\"])\n",
    "luxury_car.display_luxury_info()"
   ]
  },
  {
   "cell_type": "code",
   "execution_count": 9,
   "id": "9011b22c-0a62-4c93-b800-61d321290a3f",
   "metadata": {},
   "outputs": [],
   "source": [
    "# TASK 2"
   ]
  },
  {
   "cell_type": "code",
   "execution_count": 21,
   "id": "450516a4-f58e-45a2-986e-ce62e27f59cd",
   "metadata": {},
   "outputs": [
    {
     "name": "stdout",
     "output_type": "stream",
     "text": [
      "[Employee Information] Name: Max Black, Position: Senior Manager\n",
      "Managing Department: IT\n",
      "[Employee Information] Name: Ella Baker, Position: Supervisor\n",
      "Hours Worked: 29\n"
     ]
    }
   ],
   "source": [
    "\n",
    "class Employee:\n",
    "    def __init__(self, name, position):\n",
    "        self.name = name\n",
    "        self.position = position\n",
    "\n",
    "    def display_info(self):\n",
    "        print(f\"[Employee Information] Name: {self.name}, Position: {self.position}\")\n",
    "\n",
    "class Manager(Employee):\n",
    "    def __init__(self, name, position, department):\n",
    "        Employee.__init__(self, name, position)\n",
    "        self.department = department\n",
    "\n",
    "    def display_manager_info(self):\n",
    "        self.display_info()\n",
    "        print(f\"Managing Department: {self.department}\")\n",
    "\n",
    "class Worker(Employee):\n",
    "    def __init__(self, name, position, hours_worked):\n",
    "        Employee.__init__(self, name, position)\n",
    "        self.hours_worked = hours_worked\n",
    "\n",
    "    def display_worker_info(self):\n",
    "        self.display_info()\n",
    "        print(f\"Hours Worked: {self.hours_worked}\")\n",
    "\n",
    "manager = Manager(\"Max Black\", \"Senior Manager\", \"IT\")\n",
    "worker = Worker(\"Ella Baker\", \"Supervisor\", 29)\n",
    "\n",
    "manager.display_manager_info()\n",
    "worker.display_worker_info()"
   ]
  },
  {
   "cell_type": "code",
   "execution_count": null,
   "id": "c552905c-a895-4cbc-ad1f-4f429719df15",
   "metadata": {},
   "outputs": [],
   "source": []
  }
 ],
 "metadata": {
  "kernelspec": {
   "display_name": "Python 3 (ipykernel)",
   "language": "python",
   "name": "python3"
  },
  "language_info": {
   "codemirror_mode": {
    "name": "ipython",
    "version": 3
   },
   "file_extension": ".py",
   "mimetype": "text/x-python",
   "name": "python",
   "nbconvert_exporter": "python",
   "pygments_lexer": "ipython3",
   "version": "3.11.7"
  }
 },
 "nbformat": 4,
 "nbformat_minor": 5
}
